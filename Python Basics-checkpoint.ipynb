{
 "cells": [
  {
   "cell_type": "markdown",
   "id": "ad855d31",
   "metadata": {},
   "source": [
    "# This is python crash course exercise file"
   ]
  },
  {
   "cell_type": "markdown",
   "id": "65d1b885",
   "metadata": {},
   "source": [
    "This an optional exercise to test the understanding of basics in python"
   ]
  },
  {
   "cell_type": "markdown",
   "id": "ac385d1e",
   "metadata": {},
   "source": [
    "# what is 7 to the power of 4?"
   ]
  },
  {
   "cell_type": "code",
   "execution_count": 1,
   "id": "ed792b37",
   "metadata": {},
   "outputs": [
    {
     "data": {
      "text/plain": [
       "2401"
      ]
     },
     "execution_count": 1,
     "metadata": {},
     "output_type": "execute_result"
    }
   ],
   "source": [
    "7**4"
   ]
  },
  {
   "cell_type": "markdown",
   "id": "c9616f92",
   "metadata": {},
   "source": [
    "# Split the string\n",
    "\n",
    "s = \"Hi there Sam!\""
   ]
  },
  {
   "cell_type": "code",
   "execution_count": 2,
   "id": "235fab06",
   "metadata": {},
   "outputs": [],
   "source": [
    "s = \"Hi there Sam!\"\n"
   ]
  },
  {
   "cell_type": "code",
   "execution_count": 3,
   "id": "0da15369",
   "metadata": {},
   "outputs": [
    {
     "data": {
      "text/plain": [
       "['Hi', 'there', 'Sam!']"
      ]
     },
     "execution_count": 3,
     "metadata": {},
     "output_type": "execute_result"
    }
   ],
   "source": [
    "s.split()"
   ]
  },
  {
   "cell_type": "markdown",
   "id": "b5080d42",
   "metadata": {},
   "source": [
    "# Given the variables:\n",
    "\n",
    "planet = \"Earth\"\n",
    "\n",
    "Diameter = \"12742\"\n",
    "\n",
    "# Use .format() to print the following string"
   ]
  },
  {
   "cell_type": "code",
   "execution_count": 4,
   "id": "33761249",
   "metadata": {},
   "outputs": [
    {
     "data": {
      "text/plain": [
       "'The diaameter of Earth is 12742 :'"
      ]
     },
     "execution_count": 4,
     "metadata": {},
     "output_type": "execute_result"
    }
   ],
   "source": [
    "planet = \"Earth\"\n",
    "Diameter = \"12742\"\n",
    "\"The diaameter of {} is {} :\".format(planet,Diameter)"
   ]
  },
  {
   "cell_type": "markdown",
   "id": "752224b6",
   "metadata": {},
   "source": [
    "# Given the nested list, Use indexing to grab the word \"hello\"\n",
    "lst = [1,2,[3,4],[5,[100,200,[\"hello\"]],23,11],1,7]"
   ]
  },
  {
   "cell_type": "code",
   "execution_count": 5,
   "id": "6f884a74",
   "metadata": {},
   "outputs": [],
   "source": [
    "lst = [1,2,[3,4],[5,[100,200,[\"hello\"]],23,11],1,7]"
   ]
  },
  {
   "cell_type": "code",
   "execution_count": 6,
   "id": "c4b6eae1",
   "metadata": {},
   "outputs": [
    {
     "data": {
      "text/plain": [
       "['hello']"
      ]
     },
     "execution_count": 6,
     "metadata": {},
     "output_type": "execute_result"
    }
   ],
   "source": [
    "lst[3][1][2]"
   ]
  },
  {
   "cell_type": "markdown",
   "id": "100da498",
   "metadata": {},
   "source": [
    "# Given the nest dictionary grab the word \"hello\""
   ]
  },
  {
   "cell_type": "code",
   "execution_count": 7,
   "id": "f0845463",
   "metadata": {},
   "outputs": [],
   "source": [
    "d = {\"k1\" : [1,2,3,{\"tricky\":[\"oh\",\"man\",\"inception\",{\"target\":[1,2,3,\"hello\"]}]}]}"
   ]
  },
  {
   "cell_type": "code",
   "execution_count": 8,
   "id": "6eac70cf",
   "metadata": {},
   "outputs": [
    {
     "data": {
      "text/plain": [
       "{'k1': [1,\n",
       "  2,\n",
       "  3,\n",
       "  {'tricky': ['oh', 'man', 'inception', {'target': [1, 2, 3, 'hello']}]}]}"
      ]
     },
     "execution_count": 8,
     "metadata": {},
     "output_type": "execute_result"
    }
   ],
   "source": [
    "d"
   ]
  },
  {
   "cell_type": "code",
   "execution_count": 9,
   "id": "13a6db69",
   "metadata": {},
   "outputs": [
    {
     "data": {
      "text/plain": [
       "'hello'"
      ]
     },
     "execution_count": 9,
     "metadata": {},
     "output_type": "execute_result"
    }
   ],
   "source": [
    "d[\"k1\"][3]['tricky'][3]['target'][3]"
   ]
  },
  {
   "cell_type": "markdown",
   "id": "871e91f0",
   "metadata": {},
   "source": [
    "# What is the main difference between list and tuple"
   ]
  },
  {
   "cell_type": "markdown",
   "id": "dafa00c8",
   "metadata": {},
   "source": [
    "Lists are mutable while tuples are immutable"
   ]
  },
  {
   "cell_type": "markdown",
   "id": "c6cc5e1a",
   "metadata": {},
   "source": [
    "# Create a function that grabs the email website domain from the string in the form:\n",
    "\n",
    "user@domain.com\n",
    "\n",
    "# So for example, passing \"user@domain.com\" would return:domain.com"
   ]
  },
  {
   "cell_type": "code",
   "execution_count": 10,
   "id": "05a7ebbf",
   "metadata": {},
   "outputs": [],
   "source": [
    "def domainget(email):\n",
    "    return email.split(\"@\")[1]"
   ]
  },
  {
   "cell_type": "code",
   "execution_count": 11,
   "id": "becf3a9d",
   "metadata": {},
   "outputs": [
    {
     "data": {
      "text/plain": [
       "'domain.com'"
      ]
     },
     "execution_count": 11,
     "metadata": {},
     "output_type": "execute_result"
    }
   ],
   "source": [
    "domainget(\"salman@domain.com\")"
   ]
  },
  {
   "cell_type": "markdown",
   "id": "54d301c9",
   "metadata": {},
   "source": [
    "# Create a basic function that returns True if the word 'dog' is contained in the input string. Don't worry about the edge cases like punctuation being attached to the word dog, but do account for caapitalization."
   ]
  },
  {
   "cell_type": "code",
   "execution_count": 12,
   "id": "8c3bd87d",
   "metadata": {},
   "outputs": [],
   "source": [
    "def finddog(a):\n",
    "    if(\"dog\" in a):\n",
    "        print(True)\n",
    "    else:\n",
    "        print(\"the following string has no word of dog\")"
   ]
  },
  {
   "cell_type": "code",
   "execution_count": 13,
   "id": "a3b4b369",
   "metadata": {},
   "outputs": [
    {
     "name": "stdout",
     "output_type": "stream",
     "text": [
      "True\n"
     ]
    }
   ],
   "source": [
    "finddog(\"here is a dog\")"
   ]
  },
  {
   "cell_type": "code",
   "execution_count": 14,
   "id": "50924c44",
   "metadata": {},
   "outputs": [
    {
     "name": "stdout",
     "output_type": "stream",
     "text": [
      "the following string has no word of dog\n"
     ]
    }
   ],
   "source": [
    "finddog(\"here it is\")"
   ]
  },
  {
   "cell_type": "markdown",
   "id": "a80ad519",
   "metadata": {},
   "source": [
    "# Create a function that count the number of times the word \"dog\" occurs in a string."
   ]
  },
  {
   "cell_type": "code",
   "execution_count": 15,
   "id": "6e1a8270",
   "metadata": {},
   "outputs": [],
   "source": [
    "def countdog(st):\n",
    "    \n",
    "    count = 0\n",
    "    for word in st.lower().split():\n",
    "        if word == \"dog\":\n",
    "            count +=1\n",
    "    return count"
   ]
  },
  {
   "cell_type": "code",
   "execution_count": 16,
   "id": "1b69e066",
   "metadata": {},
   "outputs": [
    {
     "data": {
      "text/plain": [
       "2"
      ]
     },
     "execution_count": 16,
     "metadata": {},
     "output_type": "execute_result"
    }
   ],
   "source": [
    "countdog(\"DOG is a dog\")"
   ]
  },
  {
   "cell_type": "markdown",
   "id": "a4e565f0",
   "metadata": {},
   "source": [
    "# Use lambda expression and filter() function to filter out words from a list that don't start with letter 's'. For example\n",
    "\n",
    "     seq = ['soup','dog','salad','cat','great']\n",
    "     \n",
    "# Should be filtered down to:\n",
    "\n",
    "      ['soup','salad']"
   ]
  },
  {
   "cell_type": "code",
   "execution_count": 17,
   "id": "1ce3a341",
   "metadata": {},
   "outputs": [],
   "source": [
    "seq = ['soup','dog','salad','cat','great']"
   ]
  },
  {
   "cell_type": "code",
   "execution_count": 18,
   "id": "71882390",
   "metadata": {},
   "outputs": [
    {
     "data": {
      "text/plain": [
       "['soup', 'salad']"
      ]
     },
     "execution_count": 18,
     "metadata": {},
     "output_type": "execute_result"
    }
   ],
   "source": [
    "list(filter(lambda word: word[0]==\"s\",seq))"
   ]
  },
  {
   "cell_type": "code",
   "execution_count": 19,
   "id": "d465a53e",
   "metadata": {},
   "outputs": [],
   "source": [
    "seq = ['soup','dog','salad','cat','great']"
   ]
  },
  {
   "cell_type": "code",
   "execution_count": 20,
   "id": "dd278627",
   "metadata": {},
   "outputs": [
    {
     "name": "stdout",
     "output_type": "stream",
     "text": [
      "soup\n",
      "salad\n"
     ]
    }
   ],
   "source": [
    "for i in seq:\n",
    "    if i[0] =='s':\n",
    "        print(i)\n",
    "    \n",
    "        "
   ]
  },
  {
   "cell_type": "markdown",
   "id": "27d0009d",
   "metadata": {},
   "source": [
    "# Final problem"
   ]
  },
  {
   "cell_type": "markdown",
   "id": "46529003",
   "metadata": {},
   "source": [
    "\n",
    "# You are driving a little too fast, and a police officer stops you.Write a function to return on of three possible results. \"No Ticket\" , \"Small Ticket\", or \"Big Ticket\". If your speed is 60 or less, the result is \"No Ticket\". If speed is 61 and 80 enclusive.The result is \"Small Ticket\". If speed is 81 or more , the result is \"Big Ticket\". Unless it is your birthday(encoded as boolean value in a parameter of the function. On your birthday your speed can be 5 higher in all cases."
   ]
  },
  {
   "cell_type": "code",
   "execution_count": 21,
   "id": "01bbecba",
   "metadata": {},
   "outputs": [],
   "source": [
    "def caught_speeding(speed, is_birthday):\n",
    "    if is_birthday == True: \n",
    "        i = speed +5\n",
    "    else:\n",
    "        i = speed\n",
    "    if i > 80:\n",
    "        print(\"big ticket\")\n",
    "    if i > 60:\n",
    "        print(\"small ticket\")\n",
    "    else:\n",
    "        print(\"no ticket\")"
   ]
  },
  {
   "cell_type": "code",
   "execution_count": 22,
   "id": "eec7f67e",
   "metadata": {},
   "outputs": [
    {
     "name": "stdout",
     "output_type": "stream",
     "text": [
      "small ticket\n"
     ]
    }
   ],
   "source": [
    "caught_speeding(70,False)"
   ]
  },
  {
   "cell_type": "markdown",
   "id": "d2e5c8fb",
   "metadata": {},
   "source": [
    "  \n",
    "   \n",
    "   # Completed\n",
    "                      \n",
    "     "
   ]
  },
  {
   "cell_type": "code",
   "execution_count": null,
   "id": "3d727647",
   "metadata": {},
   "outputs": [],
   "source": []
  },
  {
   "cell_type": "code",
   "execution_count": null,
   "id": "7c0e7301",
   "metadata": {},
   "outputs": [],
   "source": []
  }
 ],
 "metadata": {
  "kernelspec": {
   "display_name": "Python 3",
   "language": "python",
   "name": "python3"
  },
  "language_info": {
   "codemirror_mode": {
    "name": "ipython",
    "version": 3
   },
   "file_extension": ".py",
   "mimetype": "text/x-python",
   "name": "python",
   "nbconvert_exporter": "python",
   "pygments_lexer": "ipython3",
   "version": "3.8.8"
  }
 },
 "nbformat": 4,
 "nbformat_minor": 5
}
